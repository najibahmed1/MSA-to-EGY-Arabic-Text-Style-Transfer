{
 "cells": [
  {
   "cell_type": "code",
   "execution_count": 1,
   "id": "1b177f2d",
   "metadata": {},
   "outputs": [],
   "source": [
    "from transformers import T5Tokenizer, AutoModelForSeq2SeqLM, TrainingArguments, Trainer\n",
    "from datasets import Dataset\n",
    "import pandas as pd\n",
    "import torch"
   ]
  },
  {
   "cell_type": "code",
   "execution_count": 2,
   "id": "0d977c3a",
   "metadata": {},
   "outputs": [],
   "source": [
    "def generate_samples_csv(\n",
    "    df,                        # your pandas DataFrame\n",
    "    model_path,                # path to your fine-tuned model\n",
    "    source_col,                # column name for source text\n",
    "    target_col,                # column name for reference translation\n",
    "    direction_prompt,          # e.g. \"translate MSA to EGY:\"\n",
    "    num_samples=10,            # number of random examples to sample\n",
    "    output_file=\"output.csv\"   # name of the CSV to save\n",
    "):\n",
    "    # 1. Sample from the data\n",
    "    sample_df = df[[source_col, target_col]].dropna().sample(n=num_samples, random_state=29).reset_index(drop=True)\n",
    "\n",
    "    # 2. Load model & tokenizer\n",
    "    model = AutoModelForSeq2SeqLM.from_pretrained(model_path).to(\"cuda\").eval()\n",
    "    tokenizer = T5Tokenizer.from_pretrained(model_path)\n",
    "\n",
    "    # 3. Generate translations\n",
    "    predictions = []\n",
    "    for i, row in sample_df.iterrows():\n",
    "        input_text = f\"{direction_prompt} {row[source_col]}\"\n",
    "        inputs = tokenizer(input_text, return_tensors=\"pt\", truncation=True, max_length=128).to(model.device)\n",
    "\n",
    "        with torch.no_grad():\n",
    "            outputs = model.generate(**inputs, max_new_tokens=128)\n",
    "\n",
    "        decoded = tokenizer.decode(outputs[0], skip_special_tokens=True)\n",
    "        predictions.append(decoded.strip())\n",
    "\n",
    "    # 4. Save to CSV\n",
    "    output_df = pd.DataFrame({\n",
    "        f\"{source_col}\": sample_df[source_col],\n",
    "        f\"Original {target_col} Translation\": sample_df[target_col],\n",
    "        f\"Generated {target_col} Translation\": predictions\n",
    "    })\n",
    "\n",
    "    output_df.to_csv(output_file, index=False)\n"
   ]
  },
  {
   "cell_type": "code",
   "execution_count": 3,
   "id": "693838dd",
   "metadata": {},
   "outputs": [],
   "source": [
    "em_df = pd.read_csv(\"./data/combined_egy_dev.csv\")\n",
    "lm_df = pd.read_csv(\"./data/combined_lev_dev.csv\")\n",
    "\n",
    "output_folder = \"./generated_samples/\"\n",
    "\n",
    "em_model_path = \"./arat5-styletransfer_egy_msa\"\n",
    "lm_model_path = \"./arat5-styletransfer_lev_msa\"\n",
    "\n",
    "generate_samples_csv(df=em_df, model_path=em_model_path, source_col=\"MSA\", target_col=\"EGY\", direction_prompt=\"translate MSA to EGY:\", num_samples=10, output_file=f\"{output_folder}Samples_MSA_EGY.csv\")\n",
    "\n",
    "generate_samples_csv(df=lm_df, model_path=lm_model_path, source_col=\"MSA\", target_col=\"LEV\", direction_prompt=\"translate MSA to LEV:\", num_samples=10, output_file=f\"{output_folder}Samples_MSA_LEV.csv\")\n",
    "\n",
    "generate_samples_csv(df=lm_df, model_path=lm_model_path, source_col=\"LEV\", target_col=\"MSA\", direction_prompt=\"translate LEV to MSA:\", num_samples=10, output_file=f\"{output_folder}Samples_LEV_MSA.csv\")\n",
    "\n",
    "generate_samples_csv(df=em_df, model_path=em_model_path, source_col=\"EGY\", target_col=\"MSA\", direction_prompt=\"translate EGY to MSA:\", num_samples=10, output_file=f\"{output_folder}Samples_EGY_MSA.csv\")"
   ]
  },
  {
   "cell_type": "code",
   "execution_count": 6,
   "id": "a7fbf52a",
   "metadata": {},
   "outputs": [],
   "source": [
    "def csv_to_formatted_txt(csv_file, txt_file):\n",
    "    df = pd.read_csv(csv_file)\n",
    "\n",
    "    with open(txt_file, 'w', encoding='utf-8') as f:\n",
    "        for _, row in df.iterrows():\n",
    "            for col in df.columns:\n",
    "                f.write(f\"{col}:\\n{row[col]}\\n\")\n",
    "            f.write(\"\\n\")  # empty line between rows\n",
    "\n",
    "csv_to_formatted_txt(f\"{output_folder}Samples_MSA_EGY.csv\", f\"{output_folder}Samples_MSA_EGY.txt\")\n",
    "csv_to_formatted_txt(f\"{output_folder}Samples_MSA_LEV.csv\", f\"{output_folder}Samples_MSA_LEV.txt\")\n",
    "csv_to_formatted_txt(f\"{output_folder}Samples_LEV_MSA.csv\", f\"{output_folder}Samples_LEV_MSA.txt\")\n",
    "csv_to_formatted_txt(f\"{output_folder}Samples_EGY_MSA.csv\", f\"{output_folder}Samples_EGY_MSA.txt\")"
   ]
  }
 ],
 "metadata": {
  "kernelspec": {
   "display_name": "Arabic_Translation",
   "language": "python",
   "name": "python3"
  },
  "language_info": {
   "codemirror_mode": {
    "name": "ipython",
    "version": 3
   },
   "file_extension": ".py",
   "mimetype": "text/x-python",
   "name": "python",
   "nbconvert_exporter": "python",
   "pygments_lexer": "ipython3",
   "version": "3.11.11"
  }
 },
 "nbformat": 4,
 "nbformat_minor": 5
}
